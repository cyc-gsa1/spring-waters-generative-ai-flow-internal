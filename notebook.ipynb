import nbformat as nbf

nb = nbf.v4.new_notebook()

code = """
import pandas as pd
import numpy as np
import seaborn as sns
import matplotlib.pyplot as plt

# Create a DataFrame with random data
df = pd.DataFrame(
    {
        'A': np.random.rand(100),
        'B': np.random.rand(100),
        'C': np.random.randint(0, 2, 100)
    }
)

print(df.head())

# Perform some basic analyses

# Summary statistics
print(df.describe())

# Correlation matrix
print(df.corr())

# Group by 'C' column and calculate mean
print(df.groupby('C').mean())

# Plot histograms
for col in df.columns:
    plt.figure()
    sns.histplot(df[col], kde=True)
    plt.title(f'Histogram of {col}')
    plt.show()

# Plot scatter matrix
sns.pairplot(df, hue='C')
plt.show()
"""

nb['cells'] = [nbf.v4.new_code_cell(code)]

with open('RandomDataAnalysis.ipynb', 'w') as f:
    nbf.write(nb, f)
